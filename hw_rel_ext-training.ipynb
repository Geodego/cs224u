{
 "cells": [
  {
   "cell_type": "markdown",
   "metadata": {},
   "source": [
    "# Homework and bake-off: Relation extraction using distant supervision"
   ]
  },
  {
   "cell_type": "code",
   "execution_count": 55,
   "metadata": {},
   "outputs": [],
   "source": [
    "__author__ = \"Bill MacCartney and Christopher Potts\"\n",
    "__version__ = \"CS224u, Stanford, Fall 2020\""
   ]
  },
  {
   "cell_type": "markdown",
   "metadata": {},
   "source": [
    "## Contents\n",
    "\n",
    "1. [Overview](#Overview)\n",
    "1. [Set-up](#Set-up)\n",
    "1. [Baselines](#Baselines)\n",
    "  1. [Hand-build feature functions](#Hand-build-feature-functions)\n",
    "  1. [Distributed representations](#Distributed-representations)\n",
    "1. [Homework questions](#Homework-questions)\n",
    "  1. [Different model factory [1 points]](#Different-model-factory-[1-points])\n",
    "  1. [Directional unigram features [1.5 points]](#Directional-unigram-features-[1.5-points])\n",
    "  1. [The part-of-speech tags of the \"middle\" words [1.5 points]](#The-part-of-speech-tags-of-the-\"middle\"-words-[1.5-points])\n",
    "  1. [Bag of Synsets [2 points]](#Bag-of-Synsets-[2-points])\n",
    "  1. [Your original system [3 points]](#Your-original-system-[3-points])\n",
    "1. [Bake-off [1 point]](#Bake-off-[1-point])"
   ]
  },
  {
   "cell_type": "markdown",
   "metadata": {},
   "source": [
    "## Overview\n",
    "\n",
    "This homework and associated bake-off are devoted to developing really effective relation extraction systems using distant supervision. \n",
    "\n",
    "As with the previous assignments, this notebook first establishes a baseline system. The initial homework questions ask you to create additional baselines and suggest areas for innovation, and the final homework question asks you to develop an original system for you to enter into the bake-off."
   ]
  },
  {
   "cell_type": "markdown",
   "metadata": {},
   "source": [
    "## Set-up\n",
    "\n",
    "See [the first notebook in this unit](rel_ext_01_task.ipynb#Set-up) for set-up instructions."
   ]
  },
  {
   "cell_type": "code",
   "execution_count": 2,
   "metadata": {},
   "outputs": [],
   "source": [
    "import numpy as np\n",
    "import os\n",
    "import rel_ext\n",
    "from sklearn.linear_model import LogisticRegression\n",
    "import utils"
   ]
  },
  {
   "cell_type": "markdown",
   "metadata": {},
   "source": [
    "As usual, we unite our corpus and KB into a dataset, and create some splits for experimentation:"
   ]
  },
  {
   "cell_type": "code",
   "execution_count": 57,
   "metadata": {},
   "outputs": [],
   "source": [
    "rel_ext_data_home = os.path.join('data', 'rel_ext_data')"
   ]
  },
  {
   "cell_type": "code",
   "execution_count": 58,
   "metadata": {},
   "outputs": [],
   "source": [
    "corpus = rel_ext.Corpus(os.path.join(rel_ext_data_home, 'corpus.tsv.gz'))"
   ]
  },
  {
   "cell_type": "code",
   "execution_count": 59,
   "metadata": {},
   "outputs": [],
   "source": [
    "kb = rel_ext.KB(os.path.join(rel_ext_data_home, 'kb.tsv.gz'))"
   ]
  },
  {
   "cell_type": "code",
   "execution_count": 60,
   "metadata": {},
   "outputs": [],
   "source": [
    "dataset = rel_ext.Dataset(corpus, kb)"
   ]
  },
  {
   "cell_type": "markdown",
   "metadata": {},
   "source": [
    "You are not wedded to this set-up for splits. The bake-off will be conducted on a previously unseen test-set, so all of the data in `dataset` is fair game:"
   ]
  },
  {
   "cell_type": "code",
   "execution_count": 95,
   "metadata": {},
   "outputs": [],
   "source": [
    "splits = dataset.build_splits(\n",
    "    split_names=['tiny', 'train', 'dev'],\n",
    "    split_fracs=[0.01, 0.79, 0.20],\n",
    "    seed=1)"
   ]
  },
  {
   "cell_type": "code",
   "execution_count": 62,
   "metadata": {},
   "outputs": [
    {
     "data": {
      "text/plain": [
       "{'tiny': Corpus with 3,474 examples; KB with 445 triples,\n",
       " 'train': Corpus with 263,285 examples; KB with 36,191 triples,\n",
       " 'dev': Corpus with 64,937 examples; KB with 9,248 triples,\n",
       " 'all': Corpus with 331,696 examples; KB with 45,884 triples}"
      ]
     },
     "execution_count": 62,
     "metadata": {},
     "output_type": "execute_result"
    }
   ],
   "source": [
    "splits"
   ]
  },
  {
   "cell_type": "markdown",
   "metadata": {},
   "source": [
    "## Baselines"
   ]
  },
  {
   "cell_type": "markdown",
   "metadata": {},
   "source": [
    "### Hand-build feature functions"
   ]
  },
  {
   "cell_type": "code",
   "execution_count": 63,
   "metadata": {},
   "outputs": [],
   "source": [
    "def simple_bag_of_words_featurizer(kbt, corpus, feature_counter):\n",
    "    for ex in corpus.get_examples_for_entities(kbt.sbj, kbt.obj):\n",
    "        for word in ex.middle.split(' '):\n",
    "            feature_counter[word] += 1\n",
    "    for ex in corpus.get_examples_for_entities(kbt.obj, kbt.sbj):\n",
    "        for word in ex.middle.split(' '):\n",
    "            feature_counter[word] += 1\n",
    "    return feature_counter"
   ]
  },
  {
   "cell_type": "code",
   "execution_count": 64,
   "metadata": {},
   "outputs": [],
   "source": [
    "featurizers = [simple_bag_of_words_featurizer]"
   ]
  },
  {
   "cell_type": "code",
   "execution_count": 65,
   "metadata": {},
   "outputs": [],
   "source": [
    "model_factory = lambda: LogisticRegression(fit_intercept=True, solver='liblinear')"
   ]
  },
  {
   "cell_type": "code",
   "execution_count": 66,
   "metadata": {},
   "outputs": [
    {
     "name": "stdout",
     "output_type": "stream",
     "text": [
      "relation              precision     recall    f-score    support       size\n",
      "------------------    ---------  ---------  ---------  ---------  ---------\n",
      "adjoins                   0.848      0.362      0.668        340       5716\n",
      "author                    0.806      0.548      0.737        509       5885\n",
      "capital                   0.600      0.221      0.447         95       5471\n",
      "contains                  0.816      0.598      0.760       3904       9280\n",
      "film_performance          0.796      0.570      0.738        766       6142\n",
      "founders                  0.794      0.395      0.660        380       5756\n",
      "genre                     0.622      0.165      0.400        170       5546\n",
      "has_sibling               0.847      0.232      0.554        499       5875\n",
      "has_spouse                0.894      0.327      0.663        594       5970\n",
      "is_a                      0.667      0.217      0.472        497       5873\n",
      "nationality               0.644      0.186      0.431        301       5677\n",
      "parents                   0.913      0.535      0.800        312       5688\n",
      "place_of_birth            0.667      0.215      0.469        233       5609\n",
      "place_of_death            0.436      0.107      0.270        159       5535\n",
      "profession                0.620      0.198      0.435        247       5623\n",
      "worked_at                 0.670      0.244      0.497        242       5618\n",
      "------------------    ---------  ---------  ---------  ---------  ---------\n",
      "macro-average             0.727      0.320      0.563       9248      95264\n"
     ]
    }
   ],
   "source": [
    "baseline_results = rel_ext.experiment(\n",
    "    splits,\n",
    "    train_split='train',\n",
    "    test_split='dev',\n",
    "    featurizers=featurizers,\n",
    "    model_factory=model_factory,\n",
    "    verbose=True)"
   ]
  },
  {
   "cell_type": "markdown",
   "metadata": {},
   "source": [
    "Studying model weights might yield insights:"
   ]
  },
  {
   "cell_type": "code",
   "execution_count": 67,
   "metadata": {},
   "outputs": [
    {
     "name": "stdout",
     "output_type": "stream",
     "text": [
      "Highest and lowest feature weights for relation adjoins:\n",
      "\n",
      "     2.470 Taluks\n",
      "     2.464 Córdoba\n",
      "     2.324 Valais\n",
      "     ..... .....\n",
      "    -1.353 other\n",
      "    -1.496 who\n",
      "    -2.067 Earth\n",
      "\n",
      "Highest and lowest feature weights for relation author:\n",
      "\n",
      "     2.881 author\n",
      "     2.664 books\n",
      "     2.491 book\n",
      "     ..... .....\n",
      "    -2.294 1925\n",
      "    -2.997 Daisy\n",
      "    -3.366 1945\n",
      "\n",
      "Highest and lowest feature weights for relation capital:\n",
      "\n",
      "     3.604 capital\n",
      "     1.699 km\n",
      "     1.550 posted\n",
      "     ..... .....\n",
      "    -1.990 ~3.9\n",
      "    -2.002 million\n",
      "    -2.009 pop\n",
      "\n",
      "Highest and lowest feature weights for relation contains:\n",
      "\n",
      "     2.200 third-largest\n",
      "     2.183 transferred\n",
      "     2.088 affiliated\n",
      "     ..... .....\n",
      "    -2.584 band\n",
      "    -2.603 who\n",
      "    -2.676 2002\n",
      "\n",
      "Highest and lowest feature weights for relation film_performance:\n",
      "\n",
      "     4.163 starring\n",
      "     3.764 opposite\n",
      "     3.591 movie\n",
      "     ..... .....\n",
      "    -2.019 Iruvar\n",
      "    -2.093 comedian\n",
      "    -3.779 Mohabbatein\n",
      "\n",
      "Highest and lowest feature weights for relation founders:\n",
      "\n",
      "     3.918 founder\n",
      "     3.914 founded\n",
      "     3.146 co-founder\n",
      "     ..... .....\n",
      "    -1.409 state\n",
      "    -1.692 novel\n",
      "    -1.697 Bauhaus\n",
      "\n",
      "Highest and lowest feature weights for relation genre:\n",
      "\n",
      "     2.832 album\n",
      "     2.675 movie\n",
      "     2.615 game\n",
      "     ..... .....\n",
      "    -1.455 premiered\n",
      "    -1.773 at\n",
      "    -2.240 follows\n",
      "\n",
      "Highest and lowest feature weights for relation has_sibling:\n",
      "\n",
      "     5.321 brother\n",
      "     4.342 sister\n",
      "     2.812 Marlon\n",
      "     ..... .....\n",
      "    -1.483 '\n",
      "    -1.585 alongside\n",
      "    -2.151 formed\n",
      "\n",
      "Highest and lowest feature weights for relation has_spouse:\n",
      "\n",
      "     5.394 wife\n",
      "     4.679 husband\n",
      "     4.411 widow\n",
      "     ..... .....\n",
      "    -1.402 including\n",
      "    -1.517 MTV\n",
      "    -1.537 engineer\n",
      "\n",
      "Highest and lowest feature weights for relation is_a:\n",
      "\n",
      "     2.717 \n",
      "     2.549 Genus\n",
      "     2.411 family\n",
      "     ..... .....\n",
      "    -1.589 emperor\n",
      "    -3.206 Bombus\n",
      "    -5.761 characin\n",
      "\n",
      "Highest and lowest feature weights for relation nationality:\n",
      "\n",
      "     2.695 born\n",
      "     1.869 caliph\n",
      "     1.863 ruler\n",
      "     ..... .....\n",
      "    -1.446 U.S.\n",
      "    -1.755 state\n",
      "    -1.839 American\n",
      "\n",
      "Highest and lowest feature weights for relation parents:\n",
      "\n",
      "     4.477 son\n",
      "     4.377 daughter\n",
      "     4.049 father\n",
      "     ..... .....\n",
      "    -2.011 away\n",
      "    -2.373 passes\n",
      "    -2.807 Indian\n",
      "\n",
      "Highest and lowest feature weights for relation place_of_birth:\n",
      "\n",
      "     3.787 born\n",
      "     2.778 birthplace\n",
      "     2.562 mayor\n",
      "     ..... .....\n",
      "    -1.433 and\n",
      "    -1.475 American\n",
      "    -1.583 state\n",
      "\n",
      "Highest and lowest feature weights for relation place_of_death:\n",
      "\n",
      "     2.163 died\n",
      "     2.033 rebuilt\n",
      "     1.874 where\n",
      "     ..... .....\n",
      "    -1.198 part\n",
      "    -1.250 and\n",
      "    -1.290 state\n",
      "\n",
      "Highest and lowest feature weights for relation profession:\n",
      "\n",
      "     3.238 \n",
      "     2.521 British\n",
      "     2.471 American\n",
      "     ..... .....\n",
      "    -1.208 at\n",
      "    -1.208 in\n",
      "    -2.103 on\n",
      "\n",
      "Highest and lowest feature weights for relation worked_at:\n",
      "\n",
      "     2.977 CEO\n",
      "     2.916 professor\n",
      "     2.883 president\n",
      "     ..... .....\n",
      "    -1.295 part\n",
      "    -1.575 state\n",
      "    -1.633 or\n",
      "\n"
     ]
    }
   ],
   "source": [
    "rel_ext.examine_model_weights(baseline_results)"
   ]
  },
  {
   "cell_type": "markdown",
   "metadata": {},
   "source": [
    "### Distributed representations\n",
    "\n",
    "This simple baseline sums the GloVe vector representations for all of the words in the \"middle\" span and feeds those representations into the standard `LogisticRegression`-based `model_factory`. The crucial parameter that enables this is `vectorize=False`. This essentially says to `rel_ext.experiment` that your featurizer or your model will do the work of turning examples into vectors; in that case, `rel_ext.experiment` just organizes these representations by relation type."
   ]
  },
  {
   "cell_type": "code",
   "execution_count": 68,
   "metadata": {},
   "outputs": [],
   "source": [
    "GLOVE_HOME = os.path.join('data', 'glove.6B')"
   ]
  },
  {
   "cell_type": "code",
   "execution_count": 69,
   "metadata": {},
   "outputs": [],
   "source": [
    "glove_lookup = utils.glove2dict(\n",
    "    os.path.join(GLOVE_HOME, 'glove.6B.300d.txt'))"
   ]
  },
  {
   "cell_type": "code",
   "execution_count": 70,
   "metadata": {},
   "outputs": [
    {
     "name": "stdout",
     "output_type": "stream",
     "text": [
      "<class 'dict'>\n",
      "glove_lookup has 400000 keys\n",
      "1st key: the\n",
      "first value is an array of shape (300,)\n"
     ]
    }
   ],
   "source": [
    "print(type(glove_lookup))\n",
    "print('glove_lookup has {} keys'.format(len(glove_lookup.keys())))\n",
    "print('1st key: {}'.format(next(iter(glove_lookup.keys()))))\n",
    "print('first value is an array of shape {}'.format(next(iter(glove_lookup.values())).shape))"
   ]
  },
  {
   "cell_type": "code",
   "execution_count": 71,
   "metadata": {},
   "outputs": [],
   "source": [
    "def glove_middle_featurizer(kbt, corpus, np_func=np.sum):\n",
    "    reps = []\n",
    "    for ex in corpus.get_examples_for_entities(kbt.sbj, kbt.obj):\n",
    "        for word in ex.middle.split():\n",
    "            rep = glove_lookup.get(word)\n",
    "            if rep is not None:\n",
    "                reps.append(rep)\n",
    "    # A random representation of the right dimensionality if the\n",
    "    # example happens not to overlap with GloVe's vocabulary:\n",
    "    if len(reps) == 0:\n",
    "        dim = len(next(iter(glove_lookup.values())))\n",
    "        return utils.randvec(n=dim)\n",
    "    else:\n",
    "        return np_func(reps, axis=0)"
   ]
  },
  {
   "cell_type": "code",
   "execution_count": 72,
   "metadata": {},
   "outputs": [
    {
     "name": "stdout",
     "output_type": "stream",
     "text": [
      "relation              precision     recall    f-score    support       size\n",
      "------------------    ---------  ---------  ---------  ---------  ---------\n",
      "adjoins                   0.900      0.450      0.750        340       5716\n",
      "author                    0.788      0.438      0.679        509       5885\n",
      "capital                   0.562      0.189      0.404         95       5471\n",
      "contains                  0.649      0.408      0.581       3904       9280\n",
      "film_performance          0.838      0.324      0.636        766       6142\n",
      "founders                  0.752      0.239      0.527        380       5756\n",
      "genre                     0.444      0.071      0.216        170       5546\n",
      "has_sibling               0.852      0.255      0.580        499       5875\n",
      "has_spouse                0.867      0.352      0.671        594       5970\n",
      "is_a                      0.672      0.161      0.411        497       5873\n",
      "nationality               0.613      0.189      0.423        301       5677\n",
      "parents                   0.902      0.413      0.730        312       5688\n",
      "place_of_birth            0.614      0.219      0.451        233       5609\n",
      "place_of_death            0.478      0.138      0.321        159       5535\n",
      "profession                0.647      0.134      0.366        247       5623\n",
      "worked_at                 0.730      0.269      0.543        242       5618\n",
      "------------------    ---------  ---------  ---------  ---------  ---------\n",
      "macro-average             0.707      0.266      0.518       9248      95264\n"
     ]
    }
   ],
   "source": [
    "glove_results = rel_ext.experiment(\n",
    "    splits,\n",
    "    train_split='train',\n",
    "    test_split='dev',\n",
    "    featurizers=[glove_middle_featurizer],\n",
    "    vectorize=False, # Crucial for this featurizer!\n",
    "    verbose=True)"
   ]
  },
  {
   "cell_type": "markdown",
   "metadata": {},
   "source": [
    "With the same basic code design, one can also use the PyTorch models included in the course repo, or write new ones that are better aligned with the task. For those models, it's likely that the featurizer will just return a list of tokens (or perhaps a list of lists of tokens), and the model will map those into vectors using an embedding."
   ]
  },
  {
   "cell_type": "markdown",
   "metadata": {},
   "source": [
    "## Homework questions\n",
    "\n",
    "Please embed your homework responses in this notebook, and do not delete any cells from the notebook. (You are free to add as many cells as you like as part of your responses.)"
   ]
  },
  {
   "cell_type": "markdown",
   "metadata": {},
   "source": [
    "### Different model factory [1 points]\n",
    "\n",
    "The code in `rel_ext` makes it very easy to experiment with other classifier models: one need only redefine the `model_factory` argument. This question asks you to assess a [Support Vector Classifier](https://scikit-learn.org/stable/modules/generated/sklearn.svm.SVC.html).\n",
    "\n",
    "__To submit:__ A wrapper function `run_svm_model_factory` that does the following: \n",
    "\n",
    "1. Uses `rel_ext.experiment` with the model factory set to one based in an `SVC` with `kernel='linear'` and all other arguments left with default values. \n",
    "1. Trains on the 'train' part of `splits`.\n",
    "1. Assesses on the `dev` part of `splits`.\n",
    "1. Uses `featurizers` as defined above. \n",
    "1. Returns the return value of `rel_ext.experiment` for this set-up.\n",
    "\n",
    "The function `test_run_svm_model_factory` will check that your function conforms to these general specifications."
   ]
  },
  {
   "cell_type": "code",
   "execution_count": 73,
   "metadata": {},
   "outputs": [],
   "source": [
    "def run_svm_model_factory():\n",
    "\n",
    "    ##### YOUR CODE HERE\n",
    "    from sklearn.svm import SVC\n",
    "    \n",
    "    model_svc = lambda: SVC(kernel='linear')\n",
    "    svc_results = rel_ext.experiment(\n",
    "        splits,\n",
    "        train_split='train',\n",
    "        test_split='dev',\n",
    "        featurizers=featurizers,\n",
    "        model_factory=model_svc,\n",
    "        verbose=True)\n",
    "    return svc_results\n"
   ]
  },
  {
   "cell_type": "code",
   "execution_count": 74,
   "metadata": {},
   "outputs": [],
   "source": [
    "def test_run_svm_model_factory(run_svm_model_factory):\n",
    "    results = run_svm_model_factory()\n",
    "    assert 'featurizers' in results, \\\n",
    "        \"The return value of `run_svm_model_factory` seems not to be correct\"\n",
    "    # Check one of the models to make sure it's an SVC:\n",
    "    assert 'SVC' in results['models']['adjoins'].__class__.__name__, \\\n",
    "        \"It looks like the model factor wasn't set to use an SVC.\""
   ]
  },
  {
   "cell_type": "code",
   "execution_count": 75,
   "metadata": {},
   "outputs": [
    {
     "name": "stdout",
     "output_type": "stream",
     "text": [
      "relation              precision     recall    f-score    support       size\n",
      "------------------    ---------  ---------  ---------  ---------  ---------\n",
      "adjoins                   0.779      0.332      0.614        340       5716\n",
      "author                    0.728      0.615      0.702        509       5885\n",
      "capital                   0.683      0.295      0.541         95       5471\n",
      "contains                  0.792      0.599      0.744       3904       9280\n",
      "film_performance          0.737      0.627      0.712        766       6142\n",
      "founders                  0.742      0.439      0.652        380       5756\n",
      "genre                     0.533      0.235      0.426        170       5546\n",
      "has_sibling               0.796      0.242      0.547        499       5875\n",
      "has_spouse                0.835      0.350      0.654        594       5970\n",
      "is_a                      0.620      0.276      0.496        497       5873\n",
      "nationality               0.566      0.199      0.414        301       5677\n",
      "parents                   0.852      0.590      0.782        312       5688\n",
      "place_of_birth            0.589      0.240      0.457        233       5609\n",
      "place_of_death            0.364      0.101      0.239        159       5535\n",
      "profession                0.609      0.271      0.488        247       5623\n",
      "worked_at                 0.685      0.306      0.549        242       5618\n",
      "------------------    ---------  ---------  ---------  ---------  ---------\n",
      "macro-average             0.682      0.357      0.563       9248      95264\n"
     ]
    }
   ],
   "source": [
    "if 'IS_GRADESCOPE_ENV' not in os.environ:\n",
    "    test_run_svm_model_factory(run_svm_model_factory)"
   ]
  },
  {
   "cell_type": "markdown",
   "metadata": {},
   "source": [
    "### Directional unigram features [1.5 points]\n",
    "\n",
    "The current bag-of-words representation makes no distinction between \"forward\" and \"reverse\" examples. But, intuitively, there is big difference between _X and his son Y_ and _Y and his son X_. This question asks you to modify `simple_bag_of_words_featurizer` to capture these differences. \n",
    "\n",
    "__To submit:__\n",
    "\n",
    "1. A feature function `directional_bag_of_words_featurizer` that is just like `simple_bag_of_words_featurizer` except that it distinguishes \"forward\" and \"reverse\". To do this, you just need to mark each word feature for whether it is derived from a subject–object example or from an object–subject example.  The included function `test_directional_bag_of_words_featurizer` should help verify that you've done this correctly.\n",
    "\n",
    "2. A call to `rel_ext.experiment` with `directional_bag_of_words_featurizer` as the only featurizer. (Aside from this, use all the default values for `rel_ext.experiment` as exemplified above in this notebook.)\n",
    "\n",
    "3. `rel_ext.experiment` returns some of the core objects used in the experiment. How many feature names does the `vectorizer` have for the experiment run in the previous step? Include the code needed for getting this value. (Note: we're partly asking you to figure out how to get this value by using the sklearn documentation, so please don't ask how to do it!)"
   ]
  },
  {
   "cell_type": "code",
   "execution_count": null,
   "metadata": {},
   "outputs": [],
   "source": [
    "def directional_bag_of_words_featurizer(kbt, corpus, feature_counter):\n",
    "    # Append these to the end of the keys you add/access in\n",
    "    # `feature_counter` to distinguish the two orders. You'll\n",
    "    # need to use exactly these strings in order to pass\n",
    "    # `test_directional_bag_of_words_featurizer`.\n",
    "    subject_object_suffix = \"_SO\"\n",
    "    object_subject_suffix = \"_OS\"\n",
    "\n",
    "    ##### YOUR CODE HERE\n",
    "    for ex in corpus.get_examples_for_entities(kbt.sbj, kbt.obj):\n",
    "        for word in ex.middle.split(' '):\n",
    "            feature_counter[word + subject_object_suffix] += 1\n",
    "    for ex in corpus.get_examples_for_entities(kbt.obj, kbt.sbj):\n",
    "        for word in ex.middle.split(' '):\n",
    "            feature_counter[word + object_subject_suffix] += 1\n",
    "\n",
    "\n",
    "    return feature_counter\n",
    "\n",
    "\n",
    "# Call to `rel_ext.experiment`:\n",
    "##### YOUR CODE HERE\n",
    "result = rel_ext.experiment(\n",
    "    splits,\n",
    "    train_split='train',\n",
    "    test_split='dev',\n",
    "    featurizers=[directional_bag_of_words_featurizer],\n",
    "    model_factory=model_factory,\n",
    "    verbose=True)\n",
    "nber_features = len(result['vectorizer'].get_feature_names())\n",
    "print('The vectorizer has {} feature names'.format(nber_features))\n",
    "\n"
   ]
  },
  {
   "cell_type": "code",
   "execution_count": 77,
   "metadata": {},
   "outputs": [],
   "source": [
    "def test_directional_bag_of_words_featurizer(corpus):\n",
    "    from collections import defaultdict\n",
    "    kbt = rel_ext.KBTriple(rel='worked_at', sbj='Randall_Munroe', obj='xkcd')\n",
    "    feature_counter = defaultdict(int)\n",
    "    # Make sure `feature_counter` is being updated, not reinitialized:\n",
    "    feature_counter['is_OS'] += 5\n",
    "    feature_counter = directional_bag_of_words_featurizer(kbt, corpus, feature_counter)\n",
    "    expected = defaultdict(\n",
    "        int, {'is_OS':6,'a_OS':1,'webcomic_OS':1,'created_OS':1,'by_OS':1})\n",
    "    assert feature_counter == expected, \\\n",
    "        \"Expected:\\n{}\\nGot:\\n{}\".format(expected, feature_counter)"
   ]
  },
  {
   "cell_type": "code",
   "execution_count": 78,
   "metadata": {},
   "outputs": [],
   "source": [
    "if 'IS_GRADESCOPE_ENV' not in os.environ:\n",
    "    test_directional_bag_of_words_featurizer(corpus)"
   ]
  },
  {
   "cell_type": "markdown",
   "metadata": {},
   "source": [
    "### The part-of-speech tags of the \"middle\" words [1.5 points]\n",
    "\n",
    "Our corpus distribution contains part-of-speech (POS) tagged versions of the core text spans. Let's begin to explore whether there is information in these sequences, focusing on `middle_POS`.\n",
    "\n",
    "__To submit:__\n",
    "\n",
    "1. A feature function `middle_bigram_pos_tag_featurizer` that is just like `simple_bag_of_words_featurizer` except that it creates a feature for bigram POS sequences. For example, given \n",
    "\n",
    "  `The/DT dog/N napped/V`\n",
    "  \n",
    "   we obtain the list of bigram POS sequences\n",
    "  \n",
    "   `b = ['<s> DT', 'DT N', 'N V', 'V </s>']`. \n",
    "   \n",
    "   Of course, `middle_bigram_pos_tag_featurizer` should return count dictionaries defined in terms of such bigram POS lists, on the model of `simple_bag_of_words_featurizer`.  Don't forget the start and end tags, to model those environments properly! The included function `test_middle_bigram_pos_tag_featurizer` should help verify that you've done this correctly.\n",
    "\n",
    "2. A call to `rel_ext.experiment` with `middle_bigram_pos_tag_featurizer` as the only featurizer. (Aside from this, use all the default values for `rel_ext.experiment` as exemplified above in this notebook.)"
   ]
  },
  {
   "cell_type": "code",
   "execution_count": 79,
   "metadata": {},
   "outputs": [
    {
     "name": "stdout",
     "output_type": "stream",
     "text": [
      "relation              precision     recall    f-score    support       size\n",
      "------------------    ---------  ---------  ---------  ---------  ---------\n",
      "adjoins                   0.850      0.332      0.648        340       5716\n",
      "author                    0.732      0.332      0.590        509       5885\n",
      "capital                   0.517      0.158      0.355         95       5471\n",
      "contains                  0.769      0.593      0.726       3904       9280\n",
      "film_performance          0.721      0.435      0.637        766       6142\n",
      "founders                  0.566      0.168      0.385        380       5756\n",
      "genre                     0.604      0.171      0.401        170       5546\n",
      "has_sibling               0.722      0.166      0.433        499       5875\n",
      "has_spouse                0.764      0.261      0.551        594       5970\n",
      "is_a                      0.593      0.161      0.386        497       5873\n",
      "nationality               0.407      0.080      0.223        301       5677\n",
      "parents                   0.647      0.240      0.483        312       5688\n",
      "place_of_birth            0.592      0.180      0.406        233       5609\n",
      "place_of_death            0.444      0.075      0.225        159       5535\n",
      "profession                0.652      0.182      0.430        247       5623\n",
      "worked_at                 0.476      0.124      0.304        242       5618\n",
      "------------------    ---------  ---------  ---------  ---------  ---------\n",
      "macro-average             0.628      0.229      0.449       9248      95264\n"
     ]
    }
   ],
   "source": [
    "def middle_bigram_pos_tag_featurizer(kbt, corpus, feature_counter):\n",
    "\n",
    "    ##### YOUR CODE HERE\n",
    "    def get_bigram_count(example, feature_counter):\n",
    "        sentence = example.middle_POS.strip() + \" </s>\"\n",
    "        prev_tag = \"<s>\"\n",
    "        for word in sentence.split(' '):\n",
    "            if not word:\n",
    "                continue\n",
    "            tag = word if word == \"</s>\" else word.split('/')[1]\n",
    "            bigram = prev_tag + \" \" + tag\n",
    "            prev_tag = tag\n",
    "            feature_counter[bigram] += 1\n",
    "        return feature_counter\n",
    "\n",
    "    for ex in corpus.get_examples_for_entities(kbt.sbj, kbt.obj):\n",
    "        feature_counter = get_bigram_count(ex, feature_counter)\n",
    "\n",
    "    for ex in corpus.get_examples_for_entities(kbt.obj, kbt.sbj):\n",
    "        feature_counter = get_bigram_count(ex, feature_counter)\n",
    "    return feature_counter\n",
    "\n",
    "\n",
    "def get_tag_bigrams(s):\n",
    "    \"\"\"Suggested helper method for `middle_bigram_pos_tag_featurizer`.\n",
    "    This should be defined so that it returns a list of str, where each\n",
    "    element is a POS bigram.\"\"\"\n",
    "    # The values of `start_symbol` and `end_symbol` are defined\n",
    "    # here so that you can use `test_middle_bigram_pos_tag_featurizer`.\n",
    "    start_symbol = \"<s>\"\n",
    "    end_symbol = \"</s>\"\n",
    "\n",
    "    ##### YOUR CODE HERE\n",
    "\n",
    "\n",
    "\n",
    "\n",
    "def get_tags(s):\n",
    "    \"\"\"Given a sequence of word/POS elements (lemmas), this function\n",
    "    returns a list containing just the POS elements, in order.\n",
    "    \"\"\"\n",
    "    return [parse_lem(lem)[1] for lem in s.strip().split(' ') if lem]\n",
    "\n",
    "\n",
    "def parse_lem(lem):\n",
    "    \"\"\"Helper method for parsing word/POS elements. It just splits\n",
    "    on the rightmost / and returns (word, POS) as a tuple of str.\"\"\"\n",
    "    return lem.strip().rsplit('/', 1)\n",
    "\n",
    "# Call to `rel_ext.experiment`:\n",
    "##### YOUR CODE HERE\n",
    "result = rel_ext.experiment(\n",
    "    splits,\n",
    "    train_split='train',\n",
    "    test_split='dev',\n",
    "    featurizers=[middle_bigram_pos_tag_featurizer],\n",
    "    model_factory=model_factory,\n",
    "    verbose=True)\n",
    "\n",
    "\n"
   ]
  },
  {
   "cell_type": "code",
   "execution_count": 80,
   "metadata": {},
   "outputs": [],
   "source": [
    "def test_middle_bigram_pos_tag_featurizer(corpus):\n",
    "    from collections import defaultdict\n",
    "    kbt = rel_ext.KBTriple(rel='worked_at', sbj='Randall_Munroe', obj='xkcd')\n",
    "    feature_counter = defaultdict(int)\n",
    "    # Make sure `feature_counter` is being updated, not reinitialized:\n",
    "    feature_counter['<s> VBZ'] += 5\n",
    "    feature_counter = middle_bigram_pos_tag_featurizer(kbt, corpus, feature_counter)\n",
    "    expected = defaultdict(\n",
    "        int, {'<s> VBZ':6,'VBZ DT':1,'DT JJ':1,'JJ VBN':1,'VBN IN':1,'IN </s>':1})\n",
    "    assert feature_counter == expected, \\\n",
    "        \"Expected:\\n{}\\nGot:\\n{}\".format(expected, feature_counter)"
   ]
  },
  {
   "cell_type": "code",
   "execution_count": 81,
   "metadata": {},
   "outputs": [],
   "source": [
    "if 'IS_GRADESCOPE_ENV' not in os.environ:\n",
    "    test_middle_bigram_pos_tag_featurizer(corpus)"
   ]
  },
  {
   "cell_type": "markdown",
   "metadata": {},
   "source": [
    "### Bag of Synsets [2 points]\n",
    "\n",
    "The following allows you to use NLTK's WordNet API to get the synsets compatible with _dog_ as used as a noun:\n",
    "\n",
    "```\n",
    "from nltk.corpus import wordnet as wn\n",
    "dog = wn.synsets('dog', pos='n')\n",
    "dog\n",
    "[Synset('dog.n.01'),\n",
    " Synset('frump.n.01'),\n",
    " Synset('dog.n.03'),\n",
    " Synset('cad.n.01'),\n",
    " Synset('frank.n.02'),\n",
    " Synset('pawl.n.01'),\n",
    " Synset('andiron.n.01')]\n",
    "```\n",
    "\n",
    "This question asks you to create synset-based features from the word/tag pairs in `middle_POS`.\n",
    "\n",
    "__To submit:__\n",
    "\n",
    "1. A feature function `synset_featurizer` that is just like `simple_bag_of_words_featurizer` except that it returns a list of synsets derived from `middle_POS`. Stringify these objects with `str` so that they can be `dict` keys. Use `convert_tag` (included below) to convert tags to `pos` arguments usable by `wn.synsets`. The included function `test_synset_featurizer` should help verify that you've done this correctly.\n",
    "\n",
    "2. A call to `rel_ext.experiment` with `synset_featurizer` as the only featurizer. (Aside from this, use all the default values for `rel_ext.experiment`.)"
   ]
  },
  {
   "cell_type": "code",
   "execution_count": 97,
   "metadata": {},
   "outputs": [
    {
     "name": "stderr",
     "output_type": "stream",
     "text": [
      "/Users/gdegournay/opt/anaconda3/envs/nlu/lib/python3.7/site-packages/sklearn/svm/_base.py:977: ConvergenceWarning: Liblinear failed to converge, increase the number of iterations.\n",
      "  \"the number of iterations.\", ConvergenceWarning)\n"
     ]
    },
    {
     "name": "stdout",
     "output_type": "stream",
     "text": [
      "relation              precision     recall    f-score    support       size\n",
      "------------------    ---------  ---------  ---------  ---------  ---------\n",
      "adjoins                   0.771      0.318      0.600        340       5716\n",
      "author                    0.786      0.440      0.679        509       5885\n",
      "capital                   0.590      0.242      0.458         95       5471\n",
      "contains                  0.800      0.590      0.746       3904       9280\n",
      "film_performance          0.776      0.556      0.719        766       6142\n",
      "founders                  0.751      0.382      0.629        380       5756\n",
      "genre                     0.448      0.176      0.342        170       5546\n",
      "has_sibling               0.862      0.224      0.550        499       5875\n",
      "has_spouse                0.857      0.303      0.628        594       5970\n",
      "is_a                      0.594      0.223      0.446        497       5873\n",
      "nationality               0.478      0.143      0.325        301       5677\n",
      "parents                   0.873      0.551      0.782        312       5688\n",
      "place_of_birth            0.535      0.197      0.399        233       5609\n",
      "place_of_death            0.383      0.113      0.259        159       5535\n",
      "profession                0.520      0.158      0.356        247       5623\n",
      "worked_at                 0.626      0.236      0.470        242       5618\n",
      "------------------    ---------  ---------  ---------  ---------  ---------\n",
      "macro-average             0.666      0.303      0.524       9248      95264\n"
     ]
    }
   ],
   "source": [
    "from nltk.corpus import wordnet as wn\n",
    "\n",
    "def synset_featurizer(kbt, corpus, feature_counter):\n",
    "    \"\"\"\n",
    "    This feature function is just like simple_bag_of_words_featurizer except that it returns a list of Wordnet synsets\n",
    "    derived from kbt.middle_POS. The synsets have been turned into a string so that we can use them as keys in a\n",
    "    dictionary.\n",
    "    \"\"\"\n",
    "    # Get all examples in corpus for kbt independently of the subject/object relative position\n",
    "    all_examples = corpus.get_examples_for_entities(kbt.sbj, kbt.obj).copy()\n",
    "    all_examples += corpus.get_examples_for_entities(kbt.obj, kbt.sbj).copy()\n",
    "    for ex in all_examples:\n",
    "        synsets = get_synsets(ex.middle_POS)\n",
    "        for synset in synsets:\n",
    "            feature_counter[synset] += 1\n",
    "    return feature_counter\n",
    "\n",
    "\n",
    "def get_synsets(s):\n",
    "    \"\"\"Suggested helper method for `synset_featurizer`. This should\n",
    "    be completed so that it returns a list of stringified Synsets\n",
    "    associated with elements of `s`.\n",
    "    \"\"\"\n",
    "    # Use `parse_lem` from the previous question to get a list of\n",
    "    # (word, POS) pairs. Remember to convert the POS strings.\n",
    "    wt = [parse_lem(lem) for lem in s.strip().split(' ') if lem]\n",
    "\n",
    "    # Converts the POS tags so that they can be used by WordNet.\n",
    "    wt_wn = [[pair[0], convert_tag(pair[1])] for pair in wt]\n",
    "    # list all \"stringified\" synsets associated to each [word, tag] in wt_wn\n",
    "    synsets = [str(synset) for pair in wt_wn for synset in wn.synsets(pair[0], pos=pair[1])]\n",
    "    return synsets\n",
    "\n",
    "\n",
    "def convert_tag(t):\n",
    "    \"\"\"Converts tags so that they can be used by WordNet:\n",
    "\n",
    "    | Tag begins with | WordNet tag |\n",
    "    |-----------------|-------------|\n",
    "    | `N`             | `n`         |\n",
    "    | `V`             | `v`         |\n",
    "    | `J`             | `a`         |\n",
    "    | `R`             | `r`         |\n",
    "    | Otherwise       | `None`      |\n",
    "    \"\"\"\n",
    "    if t[0].lower() in {'n', 'v', 'r'}:\n",
    "        return t[0].lower()\n",
    "    elif t[0].lower() == 'j':\n",
    "        return 'a'\n",
    "    else:\n",
    "        return None\n",
    "\n",
    "\n",
    "# Call to `rel_ext.experiment`:\n",
    "##### YOUR CODE HERE\n",
    "result = rel_ext.experiment(\n",
    "    splits,\n",
    "    train_split='train',\n",
    "    test_split='dev',\n",
    "    featurizers=[synset_featurizer],\n",
    "    model_factory=model_factory,\n",
    "    verbose=True)\n",
    "\n"
   ]
  },
  {
   "cell_type": "code",
   "execution_count": 90,
   "metadata": {},
   "outputs": [],
   "source": [
    "def test_synset_featurizer(corpus):\n",
    "    from collections import defaultdict\n",
    "    kbt = rel_ext.KBTriple(rel='worked_at', sbj='Randall_Munroe', obj='xkcd')\n",
    "    feature_counter = defaultdict(int)\n",
    "    # Make sure `feature_counter` is being updated, not reinitialized:\n",
    "    feature_counter[\"Synset('be.v.01')\"] += 5\n",
    "    feature_counter = synset_featurizer(kbt, corpus, feature_counter)\n",
    "    # The full return values for this tend to be long, so we just\n",
    "    # test a few examples to avoid cluttering up this notebook.\n",
    "    test_cases = {\n",
    "        \"Synset('be.v.01')\": 6,\n",
    "        \"Synset('embody.v.02')\": 1\n",
    "    }\n",
    "    for ss, expected in test_cases.items():\n",
    "        result = feature_counter[ss]\n",
    "        assert result == expected, \\\n",
    "            \"Incorrect count for {}: Expected {}; Got {}\".format(ss, expected, result)"
   ]
  },
  {
   "cell_type": "code",
   "execution_count": 91,
   "metadata": {},
   "outputs": [],
   "source": [
    "if 'IS_GRADESCOPE_ENV' not in os.environ:\n",
    "    test_synset_featurizer(corpus)"
   ]
  },
  {
   "cell_type": "markdown",
   "metadata": {},
   "source": [
    "### Your original system [3 points]\n",
    "\n",
    "There are many options, and this could easily grow into a project. Here are a few ideas:\n",
    "\n",
    "- Try out different classifier models, from `sklearn` and elsewhere.\n",
    "- Add a feature that indicates the length of the middle.\n",
    "- Augment the bag-of-words representation to include bigrams or trigrams (not just unigrams).\n",
    "- Introduce features based on the entity mentions themselves. <!-- \\[SPOILER: it helps a lot, maybe 4% in F-score. And combines nicely with the directional features.\\] -->\n",
    "- Experiment with features based on the context outside (rather than between) the two entity mentions — that is, the words before the first mention, or after the second.\n",
    "- Try adding features which capture syntactic information, such as the dependency-path features used by Mintz et al. 2009. The [NLTK](https://www.nltk.org/) toolkit contains a variety of [parsing algorithms](http://www.nltk.org/api/nltk.parse.html) that may help.\n",
    "- The bag-of-words representation does not permit generalization across word categories such as names of people, places, or companies. Can we do better using word embeddings such as [GloVe](https://nlp.stanford.edu/projects/glove/)?\n",
    "\n",
    "In the cell below, please provide a brief technical description of your original system, so that the teaching team can gain an understanding of what it does. This will help us to understand your code and analyze all the submissions to identify patterns and strategies. We also ask that you report the best score your system got during development, just to help us understand how systems performed overall."
   ]
  },
  {
   "cell_type": "code",
   "execution_count": 7,
   "metadata": {},
   "outputs": [
    {
     "name": "stdout",
     "output_type": "stream",
     "text": [
      "relation              precision     recall    f-score    support       size\n",
      "------------------    ---------  ---------  ---------  ---------  ---------\n",
      "adjoins                   0.890      0.382      0.703        340       5716\n",
      "author                    0.902      0.635      0.832        509       5885\n",
      "capital                   0.793      0.242      0.545         95       5471\n",
      "contains                  0.782      0.761      0.778       3904       9280\n",
      "film_performance          0.875      0.701      0.833        766       6142\n",
      "founders                  0.831      0.413      0.691        380       5756\n",
      "genre                     0.753      0.359      0.617        170       5546\n",
      "has_sibling               0.902      0.240      0.582        499       5875\n",
      "has_spouse                0.906      0.355      0.691        594       5970\n",
      "is_a                      0.716      0.294      0.556        497       5873\n",
      "nationality               0.765      0.302      0.586        301       5677\n",
      "parents                   0.932      0.526      0.807        312       5688\n",
      "place_of_birth            0.829      0.249      0.565        233       5609\n",
      "place_of_death            0.615      0.151      0.381        159       5535\n",
      "profession                0.806      0.304      0.606        247       5623\n",
      "worked_at                 0.802      0.302      0.602        242       5618\n",
      "------------------    ---------  ---------  ---------  ---------  ---------\n",
      "macro-average             0.819      0.388      0.649       9248      95264\n"
     ]
    }
   ],
   "source": [
    "# PLEASE MAKE SURE TO INCLUDE THE FOLLOWING BETWEEN THE START AND STOP COMMENTS:\n",
    "#   1) Textual description of your system.\n",
    "#   2) The code for your original system.\n",
    "#   3) The score achieved by your system in place of MY_NUMBER.\n",
    "#        With no other changes to that line.\n",
    "#        You should report your score as a decimal value <=1.0\n",
    "# PLEASE MAKE SURE NOT TO DELETE OR EDIT THE START AND STOP COMMENTS\n",
    "\n",
    "# NOTE: MODULES, CODE AND DATASETS REQUIRED FOR YOUR ORIGINAL SYSTEM \n",
    "# SHOULD BE ADDED BELOW THE 'IS_GRADESCOPE_ENV' CHECK CONDITION. DOING\n",
    "# SO ABOVE THE CHECK MAY CAUSE THE AUTOGRADER TO FAIL.\n",
    "\n",
    "# START COMMENT: Enter your system description in this cell.\n",
    "#\n",
    "# The split used to train and test the classifier is the default split proposed in the notebook:\n",
    "#     split_fracs=[0.01, 0.79, 0.20].\n",
    "#\n",
    "# The classifier used is the LogisticRegression with the following parameters:\n",
    "#     fit_intercept=True, \n",
    "#     solver='liblinear', \n",
    "#     multi_class='auto'.\n",
    "#\n",
    "# Featurizer:\n",
    "# The Featurizer used is a modified version of simple_bag_of_words_featurizers, \n",
    "# including bigrams and trigrams as well. A bigram being \"word1 word2\" and a trigram\n",
    "# \"word1 word2 word3\". It also uses a directional token feature - a token being a unigram,\n",
    "# a bigram or a trigram - similar to the one used in the notebook by adding a subject-object\n",
    "# suffix or a object-subject suffix to all the tokens.\n",
    "# The function used for that purpose is ngrams_featurizer with parameters type='trigrams' \n",
    "# and directional=True.\n",
    "\n",
    "# My peak score was: 0.649\n",
    "if 'IS_GRADESCOPE_ENV' not in os.environ:\n",
    "    \n",
    "    import numpy as np\n",
    "    import os\n",
    "    import rel_ext\n",
    "    from sklearn.linear_model import LogisticRegression\n",
    "    import utils\n",
    "    \n",
    "    utils.fix_random_seeds()\n",
    "    rel_ext_data_home = os.path.join('data', 'rel_ext_data')\n",
    "    corpus = rel_ext.Corpus(os.path.join(rel_ext_data_home, 'corpus.tsv.gz'))\n",
    "    kb = rel_ext.KB(os.path.join(rel_ext_data_home, 'kb.tsv.gz'))\n",
    "    dataset = rel_ext.Dataset(corpus, kb)\n",
    "\n",
    "    def get_bigrams_count(sentence, feature_counter, suffix):\n",
    "        new_sentence = sentence + \" </s>\"\n",
    "        prev_word = \"<s>\"\n",
    "        for word in new_sentence.strip().split(' '):\n",
    "            if not word:\n",
    "                continue\n",
    "            bigram = prev_word + \" \" + word\n",
    "            prev_word = word\n",
    "            if word != \"</s>\":\n",
    "                feature_counter[word + suffix] += 1\n",
    "            feature_counter[bigram + suffix] += 1\n",
    "        return feature_counter\n",
    "\n",
    "\n",
    "    def get_trigrams_count(sentence, feature_counter, suffix):\n",
    "        new_sentence = sentence + \" </s> </s>\"\n",
    "        prev_word = \"<s>\"\n",
    "        prev_bigram = \"<s> <s>\"\n",
    "        for word in new_sentence.strip().split(' '):\n",
    "            if not word:\n",
    "                continue\n",
    "            trigram = prev_bigram + \" \" + word\n",
    "            bigram = prev_word + \" \" + word\n",
    "            prev_bigram = bigram\n",
    "            prev_word = word\n",
    "\n",
    "            if word not in [\"<s>\", \"</s>\"]:\n",
    "                feature_counter[word + suffix] += 1\n",
    "            if bigram not in [\"<s> <s>\", \"</s> </s>\"]:\n",
    "                feature_counter[bigram + suffix] += 1\n",
    "            feature_counter[trigram + suffix] += 1\n",
    "        return feature_counter\n",
    "\n",
    "\n",
    "    def ngrams_featurizer(kbt, corpus, feature_counter, type, directional=False):\n",
    "        \"\"\"\n",
    "        Modified version of simple_bag_of_words_featurizers, include bigrams or trigrams as well depending on 'type'.\n",
    "        :param kbt:\n",
    "        :param corpus:\n",
    "        :param feature_counter:\n",
    "        :param type: 'bigrams' or 'trigrams\n",
    "        :param directional: indicates if we take into account the order of subject and object.\n",
    "        :return:\n",
    "        \"\"\"\n",
    "        subject_object_suffix = \"_SO\" if directional else \"\"\n",
    "        object_subject_suffix = \"_OS\" if directional else \"\"\n",
    "        if type == 'bigrams':\n",
    "            ngrams = get_bigrams_count\n",
    "        elif type == 'trigrams':\n",
    "            ngrams = get_trigrams_count\n",
    "        else:\n",
    "            raise Exception('type needs to be bigrams or trigrams.')\n",
    "\n",
    "        for ex in corpus.get_examples_for_entities(kbt.sbj, kbt.obj):\n",
    "            feature_counter = ngrams(ex.middle, feature_counter, subject_object_suffix)\n",
    "\n",
    "        for ex in corpus.get_examples_for_entities(kbt.obj, kbt.sbj):\n",
    "            feature_counter = ngrams(ex.middle, feature_counter, object_subject_suffix)\n",
    "        return feature_counter\n",
    "\n",
    "    \n",
    "    def rel_ext_model(dataset):\n",
    "        \"\"\"\n",
    "        :param dataset: rel_ext.Dataset\n",
    "        :return:\n",
    "        dictionary: {\n",
    "            'featurizers': [list of feature functions],\n",
    "            'vectorizer': DictVectorizer used to convert feature dicts in matrices\n",
    "            'models': {relation: fitted model}\n",
    "            'all_relations': [list of relations considered]\n",
    "            'vectorize': bool # indicates if DictVectorizer is needed.\n",
    "        } \n",
    "        \"\"\"\n",
    "        splits = dataset.build_splits(split_fracs=[0.01, 0.79, 0.20])\n",
    "        lr = lambda: LogisticRegression(fit_intercept=True, solver='liblinear', multi_class='auto')\n",
    "        grams3_direct_featurizer = lambda *args: ngrams_featurizer(*args, type='trigrams', directional=True)\n",
    "\n",
    "        baseline_results = rel_ext.experiment(\n",
    "            splits,\n",
    "            train_split='train',\n",
    "            test_split='dev',\n",
    "            featurizers=[grams3_direct_featurizer],\n",
    "            model_factory=lr,\n",
    "            verbose=True)\n",
    "        return baseline_results\n",
    "    \n",
    "    model_result = rel_ext_model(dataset)\n",
    "    \n",
    "\n",
    "# STOP COMMENT: Please do not remove this comment."
   ]
  },
  {
   "cell_type": "markdown",
   "metadata": {},
   "source": [
    "## Bake-off [1 point]\n",
    "\n",
    "For the bake-off, we will release a test set. The announcement will go out on the discussion forum. You will evaluate your custom model from the previous question on these new datasets using the function `rel_ext.bake_off_experiment`. Rules:\n",
    "\n",
    "1. Only one evaluation is permitted.\n",
    "1. No additional system tuning is permitted once the bake-off has started.\n",
    "\n",
    "The cells below this one constitute your bake-off entry.\n",
    "\n",
    "People who enter will receive the additional homework point, and people whose systems achieve the top score will receive an additional 0.5 points. We will test the top-performing systems ourselves, and only systems for which we can reproduce the reported results will win the extra 0.5 points.\n",
    "\n",
    "Late entries will be accepted, but they cannot earn the extra 0.5 points. Similarly, you cannot win the bake-off unless your homework is submitted on time.\n",
    "\n",
    "The announcement will include the details on where to submit your entry."
   ]
  },
  {
   "cell_type": "code",
   "execution_count": null,
   "metadata": {},
   "outputs": [],
   "source": [
    "# Enter your bake-off assessment code in this cell.\n",
    "# Please do not remove this comment.\n",
    "if 'IS_GRADESCOPE_ENV' not in os.environ:\n",
    "    \n",
    "    # Please enter your code in the scope of the above conditional.\n",
    "    ##### YOUR CODE HERE\n"
   ]
  },
  {
   "cell_type": "code",
   "execution_count": null,
   "metadata": {},
   "outputs": [],
   "source": [
    "# On an otherwise blank line in this cell, please enter\n",
    "# your macro-average f-score (an F_0.5 score) as reported\n",
    "# by the code above. Please enter only a number between\n",
    "# 0 and 1 inclusive. Please do not remove this comment.\n",
    "if 'IS_GRADESCOPE_ENV' not in os.environ:\n",
    "    pass\n",
    "    # Please enter your score in the scope of the above conditional.\n",
    "    ##### YOUR CODE HERE\n"
   ]
  }
 ],
 "metadata": {
  "kernelspec": {
   "display_name": "Python (nlu)",
   "language": "python",
   "name": "nlu"
  },
  "language_info": {
   "codemirror_mode": {
    "name": "ipython",
    "version": 3
   },
   "file_extension": ".py",
   "mimetype": "text/x-python",
   "name": "python",
   "nbconvert_exporter": "python",
   "pygments_lexer": "ipython3",
   "version": "3.7.9"
  },
  "widgets": {
   "state": {},
   "version": "1.1.2"
  }
 },
 "nbformat": 4,
 "nbformat_minor": 2
}
